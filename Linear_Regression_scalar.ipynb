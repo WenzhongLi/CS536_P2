{
 "cells": [
  {
   "cell_type": "markdown",
   "metadata": {},
   "source": [
    "# Linear Regression for News Group Classification\n",
    "Scalar Label [0,1,2,3]\n"
   ]
  },
  {
   "cell_type": "code",
   "execution_count": 1,
   "metadata": {},
   "outputs": [],
   "source": [
    "# Train data load \n",
    "import pickle\n",
    "import numpy as np\n",
    "import math\n",
    "\n",
    "train_data=pickle.load(open( \"train_PCA.pkl\", \"rb\" ))"
   ]
  },
  {
   "cell_type": "code",
   "execution_count": 2,
   "metadata": {},
   "outputs": [],
   "source": [
    "val_ratio  = 0.1 \n",
    "e=math.e\n",
    "L = [e**-25, e**-20, e**-15, e**-10, e**-5,0,1,2,3, e**5, e**10] # range of lambda"
   ]
  },
  {
   "cell_type": "code",
   "execution_count": 3,
   "metadata": {},
   "outputs": [],
   "source": [
    "#Split Train data into Train and Validation (Ratio Train : Val = 4:1)\n",
    "train_num = int(train_data['data'].shape[0]*(1.0-val_ratio)) \n",
    "val_num = -1*int(train_data['data'].shape[0]*val_ratio)"
   ]
  },
  {
   "cell_type": "code",
   "execution_count": 4,
   "metadata": {},
   "outputs": [],
   "source": [
    "#Train data and Train Target\n",
    "#Validation data and Validation Target\n",
    "\n",
    "\n",
    "train_feature = train_data['data'][:train_num]\n",
    "train_target = train_data['target'][:train_num]\n",
    "\n",
    "val_feature = train_data['data'][val_num:]\n",
    "val_target = train_data['target'][val_num:]"
   ]
  },
  {
   "cell_type": "code",
   "execution_count": 5,
   "metadata": {},
   "outputs": [],
   "source": [
    "#ADD BIAS \n",
    "train_bais=np.ones((train_num,1))\n",
    "val_bais=np.ones((-1*val_num,1))\n",
    "train_feature = np.append(train_feature,train_bais,axis = 1)\n",
    "val_feature = np.append(val_feature,val_bais,axis = 1)"
   ]
  },
  {
   "cell_type": "code",
   "execution_count": 6,
   "metadata": {},
   "outputs": [
    {
     "name": "stdout",
     "output_type": "stream",
     "text": [
      "(1830, 1501)\n",
      "(203, 1501)\n"
     ]
    }
   ],
   "source": [
    "print(train_feature.shape)\n",
    "print(val_feature.shape)"
   ]
  },
  {
   "cell_type": "markdown",
   "metadata": {},
   "source": [
    "# Please implement train( ) and classifier_scalar( )"
   ]
  },
  {
   "cell_type": "code",
   "execution_count": 7,
   "metadata": {},
   "outputs": [],
   "source": [
    "# Please implement Classifier in the file : Linear_Regression_Classifier.py\n",
    "from cs536_2.models import Linear_Regression_Classifier\n",
    "\n",
    "train_accuracy = list()\n",
    "validation_accuracy = list()\n",
    "\n",
    "LRC = Linear_Regression_Classifier(train_feature,train_target)\n",
    "for l in L: \n",
    "    LRC.train(l) #train with regularization parameter l\n",
    "    train_pred = LRC.classifier_scalar(train_feature)\n",
    "    val_pred = LRC.classifier_scalar(val_feature)\n",
    "    train_acc = np.sum(train_pred == train_target)/(1.0*train_num)\n",
    "    val_acc = np.sum(val_pred==val_target)/(-1.0*val_num)\n",
    "    train_accuracy.append(train_acc)\n",
    "    validation_accuracy.append(val_acc)"
   ]
  },
  {
   "cell_type": "code",
   "execution_count": 8,
   "metadata": {},
   "outputs": [
    {
     "name": "stdout",
     "output_type": "stream",
     "text": [
      "[0.99617486338797812, 0.99617486338797812, 0.99617486338797812, 0.99617486338797812, 0.99562841530054647, 0.99617486338797812, 0.86284153005464481, 0.75027322404371588, 0.69180327868852454, 0.29234972677595628, 0.23442622950819672]\n",
      "[0.51724137931034486, 0.51724137931034486, 0.51724137931034486, 0.51724137931034486, 0.54187192118226601, 0.51724137931034486, 0.70935960591133007, 0.64039408866995073, 0.62561576354679804, 0.2413793103448276, 0.25123152709359609]\n"
     ]
    }
   ],
   "source": [
    "print(train_accuracy)\n",
    "print(validation_accuracy)"
   ]
  },
  {
   "cell_type": "code",
   "execution_count": 9,
   "metadata": {},
   "outputs": [
    {
     "name": "stdout",
     "output_type": "stream",
     "text": [
      "[1.3887943864964039e-11, 2.06115362243856e-09, 3.0590232050182605e-07, 4.5399929762484875e-05, 0.006737946999085469, 0, 1, 2, 3, 148.41315910257657, 22026.465794806703]\n"
     ]
    }
   ],
   "source": [
    "print(L)\n"
   ]
  },
  {
   "cell_type": "markdown",
   "metadata": {},
   "source": [
    "# Please choose the approrpriate regularization parameter k and re-train the classifier "
   ]
  },
  {
   "cell_type": "code",
   "execution_count": 10,
   "metadata": {},
   "outputs": [],
   "source": [
    "k = L[6] #student answer\n",
    "LRC.train(k) "
   ]
  },
  {
   "cell_type": "markdown",
   "metadata": {},
   "source": [
    "# TEST DATA set Accuracy"
   ]
  },
  {
   "cell_type": "code",
   "execution_count": 11,
   "metadata": {},
   "outputs": [],
   "source": [
    "# test data set loading\n",
    "test_data=pickle.load(open( \"test_PCA.pkl\", \"rb\" ))\n",
    "test_feature = test_data['data']\n",
    "test_target = test_data['target']\n",
    "test_num = test_data['data'].shape[0] \n",
    "\n",
    "test_bias = np.ones((test_num,1))\n",
    "test_feature = np.append(test_feature,test_bias,axis = 1) # add bias\n",
    "\n",
    "test_pred = LRC.classifier_scalar(test_feature)\n",
    "test_acc = np.sum(test_pred ==test_target )/(1.0*test_num)\n",
    "\n"
   ]
  },
  {
   "cell_type": "code",
   "execution_count": 12,
   "metadata": {},
   "outputs": [
    {
     "name": "stdout",
     "output_type": "stream",
     "text": [
      "('TEST Accuracy is', 0.60606060606060608)\n"
     ]
    }
   ],
   "source": [
    "print(\"TEST Accuracy is\".format(),test_acc)"
   ]
  },
  {
   "cell_type": "code",
   "execution_count": null,
   "metadata": {},
   "outputs": [],
   "source": []
  },
  {
   "cell_type": "code",
   "execution_count": null,
   "metadata": {},
   "outputs": [],
   "source": []
  }
 ],
 "metadata": {
  "anaconda-cloud": {},
  "kernelspec": {
   "display_name": "Python 2",
   "language": "python",
   "name": "python2"
  },
  "language_info": {
   "codemirror_mode": {
    "name": "ipython",
    "version": 2
   },
   "file_extension": ".py",
   "mimetype": "text/x-python",
   "name": "python",
   "nbconvert_exporter": "python",
   "pygments_lexer": "ipython2",
   "version": "2.7.13"
  }
 },
 "nbformat": 4,
 "nbformat_minor": 1
}
